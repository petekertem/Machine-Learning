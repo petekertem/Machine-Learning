{
 "cells": [
  {
   "cell_type": "code",
   "execution_count": 1,
   "id": "840484e1",
   "metadata": {},
   "outputs": [],
   "source": [
    "import random"
   ]
  },
  {
   "cell_type": "code",
   "execution_count": 7,
   "id": "235ca77d",
   "metadata": {},
   "outputs": [
    {
     "data": {
      "text/plain": [
       "['car', 'goat', 'goat']"
      ]
     },
     "execution_count": 7,
     "metadata": {},
     "output_type": "execute_result"
    }
   ],
   "source": [
    "awards = ['car', 'goat', 'goat']\n",
    "random.shuffle(awards) # shuffled with awards random library\n",
    "awards"
   ]
  },
  {
   "cell_type": "code",
   "execution_count": 8,
   "id": "fc7209c0",
   "metadata": {},
   "outputs": [
    {
     "data": {
      "text/plain": [
       "0"
      ]
     },
     "execution_count": 8,
     "metadata": {},
     "output_type": "execute_result"
    }
   ],
   "source": [
    "door_numbers = [0, 1, 2]\n",
    "my_door_index = random.choice(door_numbers) # a random door is chosen with the random library\n",
    "my_door_index"
   ]
  },
  {
   "cell_type": "code",
   "execution_count": 9,
   "id": "a4039118",
   "metadata": {},
   "outputs": [
    {
     "data": {
      "text/plain": [
       "'car'"
      ]
     },
     "execution_count": 9,
     "metadata": {},
     "output_type": "execute_result"
    }
   ],
   "source": [
    "stay_result = awards.pop(my_door_index) # selected door set as stay result\n",
    "stay_result"
   ]
  },
  {
   "cell_type": "code",
   "execution_count": 10,
   "id": "77f898bc",
   "metadata": {},
   "outputs": [
    {
     "data": {
      "text/plain": [
       "['goat', 'goat']"
      ]
     },
     "execution_count": 10,
     "metadata": {},
     "output_type": "execute_result"
    }
   ],
   "source": [
    "awards"
   ]
  },
  {
   "cell_type": "code",
   "execution_count": 11,
   "id": "4ef3207e",
   "metadata": {},
   "outputs": [
    {
     "data": {
      "text/plain": [
       "['goat']"
      ]
     },
     "execution_count": 11,
     "metadata": {},
     "output_type": "execute_result"
    }
   ],
   "source": [
    "awards.remove('goat') # as it was determined that one of the remaining 2 awards was a goat, 1 goat was removed.\n",
    "awards"
   ]
  },
  {
   "cell_type": "code",
   "execution_count": 12,
   "id": "b8ee0711",
   "metadata": {},
   "outputs": [
    {
     "data": {
      "text/plain": [
       "'goat'"
      ]
     },
     "execution_count": 12,
     "metadata": {},
     "output_type": "execute_result"
    }
   ],
   "source": [
    "switch_result = awards[0] # the remaining door was determined as the switch result.\n",
    "switch_result"
   ]
  },
  {
   "cell_type": "code",
   "execution_count": 59,
   "id": "f170ef11",
   "metadata": {},
   "outputs": [],
   "source": [
    "n = 1000\n",
    "stay_results = []\n",
    "switch_results = []\n",
    "\n",
    "for i in range(n): # statistics run 1000 times\n",
    "    awards = ['car', 'goat', 'goat']\n",
    "    random.shuffle(awards)\n",
    "    door_numbers = [0, 1, 2]\n",
    "    my_door_index = random.choice(door_numbers)\n",
    "    stay_result = awards.pop(my_door_index)\n",
    "    awards.remove('goat')\n",
    "    switch_result = awards[0]\n",
    "    stay_results.append(stay_result)\n",
    "    switch_results.append(switch_result)"
   ]
  },
  {
   "cell_type": "code",
   "execution_count": 61,
   "id": "fc23ebe7",
   "metadata": {},
   "outputs": [
    {
     "data": {
      "text/plain": [
       "0.371"
      ]
     },
     "execution_count": 61,
     "metadata": {},
     "output_type": "execute_result"
    }
   ],
   "source": [
    "stay_results.count('car') / n"
   ]
  },
  {
   "cell_type": "code",
   "execution_count": 62,
   "id": "2c5fc42a",
   "metadata": {},
   "outputs": [
    {
     "data": {
      "text/plain": [
       "0.629"
      ]
     },
     "execution_count": 62,
     "metadata": {},
     "output_type": "execute_result"
    }
   ],
   "source": [
    "switch_results.count('car') / n"
   ]
  },
  {
   "cell_type": "code",
   "execution_count": null,
   "id": "4d4bec98",
   "metadata": {},
   "outputs": [],
   "source": []
  }
 ],
 "metadata": {
  "kernelspec": {
   "display_name": "Python 3 (ipykernel)",
   "language": "python",
   "name": "python3"
  },
  "language_info": {
   "codemirror_mode": {
    "name": "ipython",
    "version": 3
   },
   "file_extension": ".py",
   "mimetype": "text/x-python",
   "name": "python",
   "nbconvert_exporter": "python",
   "pygments_lexer": "ipython3",
   "version": "3.9.7"
  }
 },
 "nbformat": 4,
 "nbformat_minor": 5
}
