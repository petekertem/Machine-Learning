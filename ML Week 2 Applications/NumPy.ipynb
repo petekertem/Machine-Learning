{
 "cells": [
  {
   "cell_type": "code",
   "execution_count": 1,
   "id": "2f22d2d5",
   "metadata": {},
   "outputs": [],
   "source": [
    "import numpy as np "
   ]
  },
  {
   "cell_type": "markdown",
   "id": "867a9c92",
   "metadata": {},
   "source": [
    "## Populate arrays with specific numbers "
   ]
  },
  {
   "cell_type": "code",
   "execution_count": 2,
   "id": "e1985958",
   "metadata": {},
   "outputs": [
    {
     "name": "stdout",
     "output_type": "stream",
     "text": [
      "[1.2 2.4 3.5 4.7 6.1 7.2 8.3 9.5]\n"
     ]
    }
   ],
   "source": [
    "# array\n",
    "one_dimensional_array = np.array([1.2, 2.4, 3.5, 4.7, 6.1, 7.2, 8.3, 9.5])\n",
    "print(one_dimensional_array)"
   ]
  },
  {
   "cell_type": "code",
   "execution_count": 3,
   "id": "9bb2caa6",
   "metadata": {},
   "outputs": [
    {
     "name": "stdout",
     "output_type": "stream",
     "text": [
      "[[ 6  5]\n",
      " [11  7]\n",
      " [ 4  8]]\n"
     ]
    }
   ],
   "source": [
    "two_dimensional_array = np.array([[6, 5], [11, 7], [4, 8]])\n",
    "print(two_dimensional_array)"
   ]
  },
  {
   "cell_type": "markdown",
   "id": "3928cc7b",
   "metadata": {},
   "source": [
    "##  Populate arrays with sequences of numbers"
   ]
  },
  {
   "cell_type": "code",
   "execution_count": 4,
   "id": "d3ba080d",
   "metadata": {},
   "outputs": [
    {
     "name": "stdout",
     "output_type": "stream",
     "text": [
      "[ 5  6  7  8  9 10 11]\n"
     ]
    }
   ],
   "source": [
    "# arange\n",
    "sequence_of_integers = np.arange(5, 12) # alt sınır 5, üst sınır 12 içermeyen bir dizi oluşturuldu.\n",
    "print(sequence_of_integers)"
   ]
  },
  {
   "cell_type": "markdown",
   "id": "0ee255aa",
   "metadata": {},
   "source": [
    "## Populate arrays with random numbers "
   ]
  },
  {
   "cell_type": "code",
   "execution_count": 5,
   "id": "875f026d",
   "metadata": {},
   "outputs": [
    {
     "name": "stdout",
     "output_type": "stream",
     "text": [
      "[70 69 69 73 53 94]\n"
     ]
    }
   ],
   "source": [
    "random_integers_between_50_and_100 = np.random.randint(low=50, high=101, size=(6))\n",
    "# 50 ile 100 arasında rastgele tam sayılarla 6 elemanlı dizi oluşturuldu.\n",
    "print(random_integers_between_50_and_100)"
   ]
  },
  {
   "cell_type": "code",
   "execution_count": 6,
   "id": "933e409e",
   "metadata": {},
   "outputs": [
    {
     "name": "stdout",
     "output_type": "stream",
     "text": [
      "[0.79490337 0.89819278 0.30976858 0.92510994 0.38353275 0.30414556]\n"
     ]
    }
   ],
   "source": [
    "random_floats_between_0_and_1 = np.random.random([6])\n",
    "# 0.0 ile 1.0 arasında rastgele float nokta değerleri oluşturuldu.\n",
    "print(random_floats_between_0_and_1)"
   ]
  },
  {
   "cell_type": "markdown",
   "id": "a0c37224",
   "metadata": {},
   "source": [
    "## Mathematical Operations on NumPy Operands "
   ]
  },
  {
   "cell_type": "markdown",
   "id": "48452994",
   "metadata": {},
   "source": [
    "#### Broadcasting "
   ]
  },
  {
   "cell_type": "code",
   "execution_count": 7,
   "id": "bcb80f92",
   "metadata": {},
   "outputs": [
    {
     "name": "stdout",
     "output_type": "stream",
     "text": [
      "[2.79490337 2.89819278 2.30976858 2.92510994 2.38353275 2.30414556]\n"
     ]
    }
   ],
   "source": [
    "random_floats_between_2_and_3 = random_floats_between_0_and_1 + 2.0\n",
    "print(random_floats_between_2_and_3)"
   ]
  },
  {
   "cell_type": "code",
   "execution_count": 8,
   "id": "bf0ad0b4",
   "metadata": {},
   "outputs": [
    {
     "name": "stdout",
     "output_type": "stream",
     "text": [
      "[210 207 207 219 159 282]\n"
     ]
    }
   ],
   "source": [
    "random_integers_between_150_and_300 = random_integers_between_50_and_100 * 3\n",
    "print(random_integers_between_150_and_300)"
   ]
  },
  {
   "cell_type": "markdown",
   "id": "4aef2324",
   "metadata": {},
   "source": [
    "## Task 1: Create a Linear Dataset "
   ]
  },
  {
   "cell_type": "code",
   "execution_count": 9,
   "id": "d3d8d5ef",
   "metadata": {},
   "outputs": [
    {
     "name": "stdout",
     "output_type": "stream",
     "text": [
      "[ 6  7  8  9 10 11 12 13 14 15 16 17 18 19 20]\n"
     ]
    }
   ],
   "source": [
    "feature = np.arange(6, 21) # 6 ile 20 arasında bir tam sayı dizisi oluşturuldu\n",
    "print(feature)"
   ]
  },
  {
   "cell_type": "code",
   "execution_count": 10,
   "id": "c7c3b9ac",
   "metadata": {},
   "outputs": [
    {
     "name": "stdout",
     "output_type": "stream",
     "text": [
      "[22 25 28 31 34 37 40 43 46 49 52 55 58 61 64]\n"
     ]
    }
   ],
   "source": [
    "label = (feature * 3) + 4  # oluşturulan dizi elemanlarına 15 eklendi\n",
    "print(label)"
   ]
  },
  {
   "cell_type": "markdown",
   "id": "87e457e6",
   "metadata": {},
   "source": [
    "## Task 2: Add Some Noise to the Dataset "
   ]
  },
  {
   "cell_type": "code",
   "execution_count": 11,
   "id": "5aa0dc5a",
   "metadata": {},
   "outputs": [
    {
     "name": "stdout",
     "output_type": "stream",
     "text": [
      "[-1.40971424 -1.83000668 -1.22782808  0.78210275  0.70795394 -0.20699605\n",
      " -1.89487982 -0.02393122 -1.56046271  0.63575982 -1.33091605  0.43320435\n",
      " -0.65372345  0.68911343  0.3006363 ]\n"
     ]
    }
   ],
   "source": [
    "noise = (np.random.random([15]) * 4 ) - 2 # -2 ve +2 tam sayıları arasında random float sayı dizisi oluşturuldu\n",
    "print(noise)"
   ]
  },
  {
   "cell_type": "code",
   "execution_count": 12,
   "id": "e8e83711",
   "metadata": {
    "scrolled": true
   },
   "outputs": [
    {
     "name": "stdout",
     "output_type": "stream",
     "text": [
      "[20.59028576 23.16999332 26.77217192 31.78210275 34.70795394 36.79300395\n",
      " 38.10512018 42.97606878 44.43953729 49.63575982 50.66908395 55.43320435\n",
      " 57.34627655 61.68911343 64.3006363 ]\n"
     ]
    }
   ],
   "source": [
    "label = label + noise\n",
    "print(label)  # label dizi elemanlarına eklendi"
   ]
  },
  {
   "cell_type": "code",
   "execution_count": null,
   "id": "9d2f1cdf",
   "metadata": {},
   "outputs": [],
   "source": []
  }
 ],
 "metadata": {
  "kernelspec": {
   "display_name": "Python 3 (ipykernel)",
   "language": "python",
   "name": "python3"
  },
  "language_info": {
   "codemirror_mode": {
    "name": "ipython",
    "version": 3
   },
   "file_extension": ".py",
   "mimetype": "text/x-python",
   "name": "python",
   "nbconvert_exporter": "python",
   "pygments_lexer": "ipython3",
   "version": "3.9.7"
  }
 },
 "nbformat": 4,
 "nbformat_minor": 5
}
