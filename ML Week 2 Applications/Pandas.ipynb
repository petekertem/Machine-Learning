{
 "cells": [
  {
   "cell_type": "code",
   "execution_count": 1,
   "id": "d04ab95d",
   "metadata": {},
   "outputs": [],
   "source": [
    "import numpy as np\n",
    "import pandas as pd"
   ]
  },
  {
   "cell_type": "markdown",
   "id": "be6c4008",
   "metadata": {},
   "source": [
    "## Creating a DataFrame "
   ]
  },
  {
   "cell_type": "code",
   "execution_count": 2,
   "id": "e3ee44fc",
   "metadata": {},
   "outputs": [
    {
     "name": "stdout",
     "output_type": "stream",
     "text": [
      "   temperature  activity\n",
      "0            0         3\n",
      "1           10         7\n",
      "2           20         9\n",
      "3           30        14\n",
      "4           40        15\n"
     ]
    }
   ],
   "source": [
    "my_data = np.array([[0, 3], [10, 7], [20, 9], [30, 14], [40, 15]]) # numpy kütüphanesi ile 5x2 boyutunda dizi oluşturuldu\n",
    "my_column_names = ['temperature', 'activity'] # sütun isimleri verildi\n",
    "my_dataframe = pd.DataFrame(data=my_data, columns=my_column_names) # dataFrame oluşturuldu\n",
    "print(my_dataframe)"
   ]
  },
  {
   "cell_type": "markdown",
   "id": "89a3fe85",
   "metadata": {},
   "source": [
    "## Adding aa new column to a DataFrame "
   ]
  },
  {
   "cell_type": "code",
   "execution_count": 3,
   "id": "18c41dee",
   "metadata": {},
   "outputs": [
    {
     "name": "stdout",
     "output_type": "stream",
     "text": [
      "   temperature  activity  adjusted\n",
      "0            0         3         5\n",
      "1           10         7         9\n",
      "2           20         9        11\n",
      "3           30        14        16\n",
      "4           40        15        17\n"
     ]
    }
   ],
   "source": [
    "my_dataframe[\"adjusted\"] = my_dataframe[\"activity\"] + 2 # yeni sütun ismi ve verileri oluşturuldu\n",
    "print(my_dataframe)"
   ]
  },
  {
   "cell_type": "markdown",
   "id": "2327a8c9",
   "metadata": {},
   "source": [
    "## Specifying a subset of a DataFrame "
   ]
  },
  {
   "cell_type": "code",
   "execution_count": 4,
   "id": "ca6f1c5c",
   "metadata": {},
   "outputs": [
    {
     "name": "stdout",
     "output_type": "stream",
     "text": [
      "Rows #0, #1 and #2:\n",
      "\n",
      "   temperature  activity  adjusted\n",
      "0            0         3         5\n",
      "1           10         7         9\n",
      "2           20         9        11 \n",
      "\n"
     ]
    }
   ],
   "source": [
    "print(\"Rows #0, #1 and #2:\" '\\n') \n",
    "print(my_dataframe.head(3), '\\n')# ilk 3 satır "
   ]
  },
  {
   "cell_type": "code",
   "execution_count": 5,
   "id": "c69d1bf8",
   "metadata": {},
   "outputs": [
    {
     "name": "stdout",
     "output_type": "stream",
     "text": [
      "Row #2:\n",
      "\n",
      "   temperature  activity  adjusted\n",
      "2           20         9        11 \n",
      "\n"
     ]
    }
   ],
   "source": [
    "print(\"Row #2:\" '\\n')\n",
    "print(my_dataframe.iloc[[2]], '\\n') #indekslenen satır"
   ]
  },
  {
   "cell_type": "code",
   "execution_count": 6,
   "id": "46195aaf",
   "metadata": {},
   "outputs": [
    {
     "name": "stdout",
     "output_type": "stream",
     "text": [
      "Rows #1, #2, and #3:\n",
      "\n",
      "   temperature  activity  adjusted\n",
      "1           10         7         9\n",
      "2           20         9        11\n",
      "3           30        14        16 \n",
      "\n"
     ]
    }
   ],
   "source": [
    "print(\"Rows #1, #2, and #3:\" '\\n')\n",
    "print(my_dataframe[1:4], '\\n') # 1 ve 4-1 arası satırlar"
   ]
  },
  {
   "cell_type": "code",
   "execution_count": 7,
   "id": "627d91f0",
   "metadata": {},
   "outputs": [
    {
     "name": "stdout",
     "output_type": "stream",
     "text": [
      "Column 'temperature':n\n",
      "0     0\n",
      "1    10\n",
      "2    20\n",
      "3    30\n",
      "4    40\n",
      "Name: temperature, dtype: int32\n"
     ]
    }
   ],
   "source": [
    "print(\"Column 'temperature':\" 'n')\n",
    "print(my_dataframe['temperature']) # temperature sütunu"
   ]
  },
  {
   "cell_type": "markdown",
   "id": "f4e85ee9",
   "metadata": {},
   "source": [
    "## Task 1: Create a DataFrame "
   ]
  },
  {
   "cell_type": "code",
   "execution_count": 8,
   "id": "e3ffc711",
   "metadata": {},
   "outputs": [
    {
     "name": "stdout",
     "output_type": "stream",
     "text": [
      "[[ 5 28 73 75]\n",
      " [48 49 99 91]\n",
      " [18 65 10 63]]\n"
     ]
    }
   ],
   "source": [
    "task_data = np.random.randint(low=0, high=101, size=(3, 4)) # 1 ile 100 arasında 12 adet integer random veri oluşturuldu\n",
    "print(task_data)"
   ]
  },
  {
   "cell_type": "code",
   "execution_count": 9,
   "id": "3ef9dfd7",
   "metadata": {},
   "outputs": [
    {
     "name": "stdout",
     "output_type": "stream",
     "text": [
      "['Eleanor', 'Chidi', 'Tahani', 'Jason']\n"
     ]
    }
   ],
   "source": [
    "task_column_names = ['Eleanor','Chidi', 'Tahani', 'Jason'] # sütun isimleri verildi\n",
    "print(task_column_names)"
   ]
  },
  {
   "cell_type": "code",
   "execution_count": 10,
   "id": "ad03bca1",
   "metadata": {},
   "outputs": [
    {
     "name": "stdout",
     "output_type": "stream",
     "text": [
      "   Eleanor  Chidi  Tahani  Jason\n",
      "0        5     28      73     75\n",
      "1       48     49      99     91\n",
      "2       18     65      10     63\n"
     ]
    }
   ],
   "source": [
    "task_dataframe = pd.DataFrame(data=task_data, columns=task_column_names) # dataframe oluşturuldu\n",
    "print(task_dataframe)"
   ]
  },
  {
   "cell_type": "code",
   "execution_count": 11,
   "id": "6aa14811",
   "metadata": {},
   "outputs": [
    {
     "data": {
      "text/plain": [
       "48"
      ]
     },
     "execution_count": 11,
     "metadata": {},
     "output_type": "execute_result"
    }
   ],
   "source": [
    "# the value in the cell of row #1 of the Eleanor column\n",
    "task_dataframe.Eleanor[1]  #Eleanor sütununun 1. indeksi"
   ]
  },
  {
   "cell_type": "code",
   "execution_count": 12,
   "id": "f2474777",
   "metadata": {},
   "outputs": [
    {
     "name": "stdout",
     "output_type": "stream",
     "text": [
      "   Eleanor  Chidi  Tahani  Jason  Janet\n",
      "0        5     28      73     75    148\n",
      "1       48     49      99     91    190\n",
      "2       18     65      10     63     73\n"
     ]
    }
   ],
   "source": [
    "# Create a fifth column named Janet, which is populated with the row-by-row sums of Tahani and Jason\n",
    "task_dataframe[\"Janet\"] = task_dataframe[\"Tahani\"] + task_dataframe[\"Jason\"]\n",
    "print(task_dataframe)"
   ]
  },
  {
   "cell_type": "markdown",
   "id": "da3f1a14",
   "metadata": {},
   "source": [
    "## Copying a DataFrame "
   ]
  },
  {
   "cell_type": "code",
   "execution_count": 13,
   "id": "3f978757",
   "metadata": {},
   "outputs": [],
   "source": [
    "reference_to_df = task_dataframe # task_dataframe, yeni bir değişkene atarak referans oluşturuldu"
   ]
  },
  {
   "cell_type": "code",
   "execution_count": 14,
   "id": "b4b7861f",
   "metadata": {},
   "outputs": [
    {
     "name": "stdout",
     "output_type": "stream",
     "text": [
      "Starting value of task_dataframe: 91\n",
      "Starting value of reference_to_df: 91\n"
     ]
    }
   ],
   "source": [
    "print(\"Starting value of task_dataframe: %d\" % task_dataframe['Jason'][1])\n",
    "print(\"Starting value of reference_to_df: %d\" % reference_to_df['Jason'][1])"
   ]
  },
  {
   "cell_type": "code",
   "execution_count": 15,
   "id": "4be7bc2f",
   "metadata": {},
   "outputs": [
    {
     "name": "stdout",
     "output_type": "stream",
     "text": [
      "Updated task_dataframe: 96\n",
      "Updated reference_to_df: 96\n",
      "\n",
      "\n"
     ]
    }
   ],
   "source": [
    "task_dataframe.at[1, 'Jason'] = task_dataframe['Jason'][1] + 5\n",
    "print(\"Updated task_dataframe: %d\" % task_dataframe['Jason'][1])\n",
    "print(\"Updated reference_to_df: %d\\n\\n\" % reference_to_df['Jason'][1])"
   ]
  },
  {
   "cell_type": "code",
   "execution_count": 16,
   "id": "a00f43e4",
   "metadata": {},
   "outputs": [],
   "source": [
    "copy_of_my_dataframe = my_dataframe.copy() # my_dataframe, yeni bir değişkene copy methoduyla kopyalandı"
   ]
  },
  {
   "cell_type": "code",
   "execution_count": 17,
   "id": "b770480f",
   "metadata": {},
   "outputs": [
    {
     "name": "stdout",
     "output_type": "stream",
     "text": [
      "Starting value of my_dataframe: 7\n",
      "Starting value of copy_of_my_dataframe: 7\n",
      "\n"
     ]
    }
   ],
   "source": [
    "print(\"Starting value of my_dataframe: %d\" % my_dataframe['activity'][1])\n",
    "print(\"Starting value of copy_of_my_dataframe: %d\\n\" % copy_of_my_dataframe['activity'][1])"
   ]
  },
  {
   "cell_type": "code",
   "execution_count": 18,
   "id": "2e706d5a",
   "metadata": {},
   "outputs": [
    {
     "name": "stdout",
     "output_type": "stream",
     "text": [
      "Updated my_dataframe: 10\n",
      "copy_of_my_dataframe does not get updated: 7\n"
     ]
    }
   ],
   "source": [
    "my_dataframe.at[1, 'activity'] = my_dataframe['activity'][1] + 3\n",
    "print(\"Updated my_dataframe: %d\" % my_dataframe['activity'][1])\n",
    "print(\"copy_of_my_dataframe does not get updated: %d\" % copy_of_my_dataframe['activity'][1])"
   ]
  },
  {
   "cell_type": "code",
   "execution_count": null,
   "id": "7daaea89",
   "metadata": {},
   "outputs": [],
   "source": []
  }
 ],
 "metadata": {
  "kernelspec": {
   "display_name": "Python 3 (ipykernel)",
   "language": "python",
   "name": "python3"
  },
  "language_info": {
   "codemirror_mode": {
    "name": "ipython",
    "version": 3
   },
   "file_extension": ".py",
   "mimetype": "text/x-python",
   "name": "python",
   "nbconvert_exporter": "python",
   "pygments_lexer": "ipython3",
   "version": "3.9.7"
  }
 },
 "nbformat": 4,
 "nbformat_minor": 5
}
